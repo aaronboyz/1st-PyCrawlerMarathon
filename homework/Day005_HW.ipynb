{
 "cells": [
  {
   "cell_type": "markdown",
   "metadata": {},
   "source": [
    "# API 資料串接 - 以 Dcard API 實作範例\n",
    "\n",
    "* 利用 urllib 套件的 urlretrieve 方法下載檔案\n",
    "* 了解 Python File I/O 讀檔、寫檔的用法\n",
    "* 能用運用資源管理器 With Statement 優化寫法"
   ]
  },
  {
   "cell_type": "markdown",
   "metadata": {},
   "source": [
    "## 作業目標\n",
    "\n",
    "* 請利用 API: https://www.dcard.tw/_api/forums/pet/posts?popular=true 回答下列問題：\n",
    "\n",
    "1. 這個 API 一次會回傳幾筆資料？每一筆資料包含哪些欄位？\n",
    "2. 取出每一筆資料的「標題」、「貼文時間」、「留言人數」、「按讚人數」\n",
    "3. 計算熱門/非熱門文章的「平均留言人數」與「平均按讚人數」"
   ]
  },
  {
   "cell_type": "code",
   "execution_count": 19,
   "metadata": {},
   "outputs": [
    {
     "name": "stdout",
     "output_type": "stream",
     "text": "一次會回傳 30 筆資料\n每一筆資料包含欄位： dict_keys(['id', 'title', 'excerpt', 'anonymousSchool', 'anonymousDepartment', 'pinned', 'forumId', 'replyId', 'createdAt', 'updatedAt', 'commentCount', 'likeCount', 'withNickname', 'tags', 'topics', 'meta', 'forumName', 'forumAlias', 'gender', 'school', 'department', 'replyTitle', 'mediaMeta', 'reactions', 'hidden', 'customStyle', 'isSuspiciousAccount', 'layout', 'withImages', 'withVideos', 'media', 'reportReasonText', 'postAvatar'])\n"
    }
   ],
   "source": [
    "# 1. 這個 API 一次會回傳幾筆資料？每一筆資料包含哪些欄位？\n",
    "\n",
    "import requests\n",
    "r = requests.get('https://www.dcard.tw/_api/forums/pet/posts?popular=true')\n",
    "response = json.loads(r.text)\n",
    "\n",
    "\n",
    "print(\"一次會回傳\",len(response),\"筆資料\")\n",
    "\n",
    "print(\"每一筆資料包含欄位：\",response[0].keys())\n"
   ]
  },
  {
   "cell_type": "code",
   "execution_count": 32,
   "metadata": {},
   "outputs": [
    {
     "data": {
      "text/html": "<div>\n<style scoped>\n    .dataframe tbody tr th:only-of-type {\n        vertical-align: middle;\n    }\n\n    .dataframe tbody tr th {\n        vertical-align: top;\n    }\n\n    .dataframe thead th {\n        text-align: right;\n    }\n</style>\n<table border=\"1\" class=\"dataframe\">\n  <thead>\n    <tr style=\"text-align: right;\">\n      <th></th>\n      <th>標題</th>\n      <th>貼文時間</th>\n      <th>留言人數</th>\n      <th>按讚人數</th>\n    </tr>\n  </thead>\n  <tbody>\n    <tr>\n      <th>0</th>\n      <td>找回失蹤狗狗😭 原來妳也在找我們</td>\n      <td>2019-11-29T22:33:34.440Z</td>\n      <td>129</td>\n      <td>6537</td>\n    </tr>\n    <tr>\n      <th>1</th>\n      <td>我家的貓每天睡覺前一定會做的事</td>\n      <td>2019-11-30T06:52:29.882Z</td>\n      <td>37</td>\n      <td>967</td>\n    </tr>\n    <tr>\n      <th>2</th>\n      <td>被擠床原來是一件幸福的事</td>\n      <td>2019-11-30T04:15:42.699Z</td>\n      <td>7</td>\n      <td>312</td>\n    </tr>\n    <tr>\n      <th>3</th>\n      <td>#哈士奇 滿一歲啦 文長 滿滿的二哈</td>\n      <td>2019-11-30T16:30:51.154Z</td>\n      <td>8</td>\n      <td>111</td>\n    </tr>\n    <tr>\n      <th>4</th>\n      <td>媽 晚餐好了沒</td>\n      <td>2019-11-30T10:42:58.582Z</td>\n      <td>2</td>\n      <td>108</td>\n    </tr>\n    <tr>\n      <th>5</th>\n      <td>有貓快拜！！</td>\n      <td>2019-11-30T03:07:22.599Z</td>\n      <td>3</td>\n      <td>95</td>\n    </tr>\n    <tr>\n      <th>6</th>\n      <td>有人要吸兔嗎？</td>\n      <td>2019-11-30T04:58:10.195Z</td>\n      <td>19</td>\n      <td>86</td>\n    </tr>\n    <tr>\n      <th>7</th>\n      <td>你到底是貓還是狗？</td>\n      <td>2019-11-30T14:32:06.500Z</td>\n      <td>1</td>\n      <td>28</td>\n    </tr>\n    <tr>\n      <th>8</th>\n      <td>白圍巾白手套橘貓❤️</td>\n      <td>2019-11-30T07:44:14.420Z</td>\n      <td>6</td>\n      <td>26</td>\n    </tr>\n    <tr>\n      <th>9</th>\n      <td>#柴 #影片 到底有多討厭洗澡</td>\n      <td>2019-11-30T03:24:55.897Z</td>\n      <td>1</td>\n      <td>23</td>\n    </tr>\n    <tr>\n      <th>10</th>\n      <td>我不是貓 我是兔子</td>\n      <td>2019-11-30T11:16:53.115Z</td>\n      <td>1</td>\n      <td>20</td>\n    </tr>\n    <tr>\n      <th>11</th>\n      <td>從沒想過山竹可以這麼可口ฅ</td>\n      <td>2019-11-30T10:24:08.529Z</td>\n      <td>5</td>\n      <td>20</td>\n    </tr>\n    <tr>\n      <th>12</th>\n      <td>自嗨小橘貓</td>\n      <td>2019-11-30T20:21:16.782Z</td>\n      <td>1</td>\n      <td>18</td>\n    </tr>\n    <tr>\n      <th>13</th>\n      <td>四個月的布偶屁貓</td>\n      <td>2019-11-30T11:24:26.047Z</td>\n      <td>1</td>\n      <td>16</td>\n    </tr>\n    <tr>\n      <th>14</th>\n      <td>我家阿咪的特技</td>\n      <td>2019-11-30T18:43:59.640Z</td>\n      <td>3</td>\n      <td>15</td>\n    </tr>\n    <tr>\n      <th>15</th>\n      <td>#貓咪 十隻白貓九隻胖</td>\n      <td>2019-11-30T15:24:46.075Z</td>\n      <td>6</td>\n      <td>15</td>\n    </tr>\n    <tr>\n      <th>16</th>\n      <td>原來柴犬可以那麽可愛🐕</td>\n      <td>2019-11-30T17:17:51.628Z</td>\n      <td>1</td>\n      <td>14</td>\n    </tr>\n    <tr>\n      <th>17</th>\n      <td>你一定要這樣厭世嗎</td>\n      <td>2019-11-30T13:05:07.439Z</td>\n      <td>0</td>\n      <td>14</td>\n    </tr>\n    <tr>\n      <th>18</th>\n      <td>就算之後天天吃泡麵也要救活妳</td>\n      <td>2019-11-30T11:59:28.473Z</td>\n      <td>0</td>\n      <td>14</td>\n    </tr>\n    <tr>\n      <th>19</th>\n      <td>我養的是工讀生？🤔</td>\n      <td>2019-12-01T02:07:09.729Z</td>\n      <td>6</td>\n      <td>13</td>\n    </tr>\n    <tr>\n      <th>20</th>\n      <td>急尋愛貓一隻🙏🙏</td>\n      <td>2019-11-30T13:31:14.399Z</td>\n      <td>2</td>\n      <td>12</td>\n    </tr>\n    <tr>\n      <th>21</th>\n      <td>#貓 #影 #圖 不只慢半拍ㄉ音癡（？</td>\n      <td>2019-11-30T08:14:35.514Z</td>\n      <td>1</td>\n      <td>12</td>\n    </tr>\n    <tr>\n      <th>22</th>\n      <td>我家貓咪真可愛♥️♥️</td>\n      <td>2019-11-30T06:31:53.631Z</td>\n      <td>6</td>\n      <td>12</td>\n    </tr>\n    <tr>\n      <th>23</th>\n      <td>小寶貝</td>\n      <td>2019-11-30T16:01:13.979Z</td>\n      <td>0</td>\n      <td>11</td>\n    </tr>\n    <tr>\n      <th>24</th>\n      <td>這個哈欠...</td>\n      <td>2019-11-30T02:20:59.472Z</td>\n      <td>2</td>\n      <td>11</td>\n    </tr>\n    <tr>\n      <th>25</th>\n      <td>如果當初這樣做 或許結局就能不同了吧</td>\n      <td>2019-12-01T00:49:18.221Z</td>\n      <td>0</td>\n      <td>9</td>\n    </tr>\n    <tr>\n      <th>26</th>\n      <td>請問⋯妳是在哈囉？</td>\n      <td>2019-11-30T19:16:39.494Z</td>\n      <td>2</td>\n      <td>9</td>\n    </tr>\n    <tr>\n      <th>27</th>\n      <td>白貓是不是很白目？</td>\n      <td>2019-11-30T12:47:15.519Z</td>\n      <td>4</td>\n      <td>8</td>\n    </tr>\n    <tr>\n      <th>28</th>\n      <td>#好想知道妳在想什麼</td>\n      <td>2019-11-30T12:44:17.260Z</td>\n      <td>1</td>\n      <td>7</td>\n    </tr>\n    <tr>\n      <th>29</th>\n      <td>一隻會傳球的貓</td>\n      <td>2019-11-30T18:36:38.485Z</td>\n      <td>0</td>\n      <td>6</td>\n    </tr>\n  </tbody>\n</table>\n</div>",
      "text/plain": "                     標題                      貼文時間  留言人數  按讚人數\n0      找回失蹤狗狗😭 原來妳也在找我們  2019-11-29T22:33:34.440Z   129  6537\n1       我家的貓每天睡覺前一定會做的事  2019-11-30T06:52:29.882Z    37   967\n2          被擠床原來是一件幸福的事  2019-11-30T04:15:42.699Z     7   312\n3    #哈士奇 滿一歲啦 文長 滿滿的二哈  2019-11-30T16:30:51.154Z     8   111\n4               媽 晚餐好了沒  2019-11-30T10:42:58.582Z     2   108\n5                有貓快拜！！  2019-11-30T03:07:22.599Z     3    95\n6               有人要吸兔嗎？  2019-11-30T04:58:10.195Z    19    86\n7             你到底是貓還是狗？  2019-11-30T14:32:06.500Z     1    28\n8            白圍巾白手套橘貓❤️  2019-11-30T07:44:14.420Z     6    26\n9       #柴 #影片 到底有多討厭洗澡  2019-11-30T03:24:55.897Z     1    23\n10            我不是貓 我是兔子  2019-11-30T11:16:53.115Z     1    20\n11        從沒想過山竹可以這麼可口ฅ  2019-11-30T10:24:08.529Z     5    20\n12                自嗨小橘貓  2019-11-30T20:21:16.782Z     1    18\n13             四個月的布偶屁貓  2019-11-30T11:24:26.047Z     1    16\n14              我家阿咪的特技  2019-11-30T18:43:59.640Z     3    15\n15          #貓咪 十隻白貓九隻胖  2019-11-30T15:24:46.075Z     6    15\n16          原來柴犬可以那麽可愛🐕  2019-11-30T17:17:51.628Z     1    14\n17            你一定要這樣厭世嗎  2019-11-30T13:05:07.439Z     0    14\n18       就算之後天天吃泡麵也要救活妳  2019-11-30T11:59:28.473Z     0    14\n19            我養的是工讀生？🤔  2019-12-01T02:07:09.729Z     6    13\n20             急尋愛貓一隻🙏🙏  2019-11-30T13:31:14.399Z     2    12\n21  #貓 #影 #圖 不只慢半拍ㄉ音癡（？  2019-11-30T08:14:35.514Z     1    12\n22          我家貓咪真可愛♥️♥️  2019-11-30T06:31:53.631Z     6    12\n23                  小寶貝  2019-11-30T16:01:13.979Z     0    11\n24              這個哈欠...  2019-11-30T02:20:59.472Z     2    11\n25   如果當初這樣做 或許結局就能不同了吧  2019-12-01T00:49:18.221Z     0     9\n26            請問⋯妳是在哈囉？  2019-11-30T19:16:39.494Z     2     9\n27            白貓是不是很白目？  2019-11-30T12:47:15.519Z     4     8\n28           #好想知道妳在想什麼  2019-11-30T12:44:17.260Z     1     7\n29              一隻會傳球的貓  2019-11-30T18:36:38.485Z     0     6"
     },
     "execution_count": 32,
     "metadata": {},
     "output_type": "execute_result"
    }
   ],
   "source": [
    "# 2. 取出每一筆資料的「標題」、「貼文時間」、「留言人數」、「按讚人數」\n",
    "import pandas as pd\n",
    "pop = []\n",
    "for item in response:\n",
    "    pop.append([item['title'],item['createdAt'],item['commentCount'],item['likeCount']])\n",
    "pop_df=pd.DataFrame(pop,columns=['標題','貼文時間','留言人數','按讚人數'])\n",
    "pop_df\n",
    "\n"
   ]
  },
  {
   "cell_type": "code",
   "execution_count": 53,
   "metadata": {},
   "outputs": [],
   "source": [
    "# 3. 計算熱門/非熱門文章的「平均留言人數」與「平均按讚人數」\n",
    "    #以定義的方式來計算\n",
    "def get_comment_and_count_avg(popular):\n",
    "    r = requests.get('https://www.dcard.tw/_api/forums/pet/posts?popular='+popular) #popular=true是熱門 popular=false是非熱門\n",
    "    \n",
    "    response = r.text\n",
    "    data = json.loads(response) #讀取檔案\n",
    "    article= []\n",
    "    for item in data:\n",
    "        article.append([item['title'],item['createdAt'],item['commentCount'],item['likeCount']])\n",
    "    df = pd.DataFrame(article,columns=['標題','貼文時間','留言人數','按讚人數']) #製成表格\n",
    "    # print(df)\n",
    "    if popular == 'true': #popular=true是熱門 popular=false是非熱門\n",
    "        stype = '熱門'\n",
    "    else:   #popular=false是非熱門\n",
    "        stype = '非熱門'\n",
    "    print(stype+'平均留言人數: '+str(round(df['留言人數'].mean(),1))) #取至小數點後一位, 並轉為str字串\n",
    "    print(stype+'平均按讚人數: '+str(round(df['按讚人數'].mean(),1)))\n",
    "    "
   ]
  },
  {
   "cell_type": "code",
   "execution_count": 55,
   "metadata": {},
   "outputs": [
    {
     "name": "stdout",
     "output_type": "stream",
     "text": "熱門平均留言人數: 9.0\n熱門平均按讚人數: 316.9\n"
    }
   ],
   "source": [
    "\n",
    "get_comment_and_count_avg('true')"
   ]
  },
  {
   "cell_type": "code",
   "execution_count": 56,
   "metadata": {},
   "outputs": [
    {
     "name": "stdout",
     "output_type": "stream",
     "text": "非熱門平均留言人數: 1.8\n非熱門平均按讚人數: 10.0\n"
    }
   ],
   "source": [
    "get_comment_and_count_avg('false')"
   ]
  },
  {
   "cell_type": "code",
   "execution_count": null,
   "metadata": {},
   "outputs": [],
   "source": []
  }
 ],
 "metadata": {
  "kernelspec": {
   "display_name": "Python 3",
   "language": "python",
   "name": "python3"
  },
  "language_info": {
   "codemirror_mode": {
    "name": "ipython",
    "version": 3
   },
   "file_extension": ".py",
   "mimetype": "text/x-python",
   "name": "python",
   "nbconvert_exporter": "python",
   "pygments_lexer": "ipython3",
   "version": "3.7.3"
  }
 },
 "nbformat": 4,
 "nbformat_minor": 2
}
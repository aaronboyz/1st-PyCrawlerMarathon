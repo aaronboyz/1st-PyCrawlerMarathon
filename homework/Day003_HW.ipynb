{
 "cells": [
  {
   "cell_type": "markdown",
   "metadata": {},
   "source": [
    "# Python 下載XML檔案與解析\n",
    "\n",
    "\n",
    "* 了解 xml 檔案格式與內容\n",
    "* 能夠利用套件存取 xml 格式的檔案\n"
   ]
  },
  {
   "cell_type": "markdown",
   "metadata": {},
   "source": [
    "## 作業目標\n",
    "\n",
    "* 比較一下範例檔案中的「File I/O」與「xmltodict」讀出來的內容有什麼差異\n",
    "\n",
    "* 根據範例檔案的結果：\n",
    "    1. 請問高雄市有多少地區有溫度資料？\n",
    "    2. 請取出每一個地區所記錄的第一個時間點跟溫度\n",
    "    3. 請取出第一個地區所記錄的每一個時間點跟溫度"
   ]
  },
  {
   "cell_type": "markdown",
   "metadata": {},
   "source": [
    "### 比較一下範例檔案中的「File I/O」與「xmltodict」讀出來的內容有什麼差異\n"
   ]
  },
  {
   "cell_type": "code",
   "execution_count": null,
   "metadata": {},
   "outputs": [],
   "source": [
    "'''\n",
    "File I/O 會將XML的檔案內容全部顯示出來（包含標籤）\b\b; xmltodict則是能夠解讀xml檔案內容並排版成易讀格式。\n",
    "'''"
   ]
  },
  {
   "cell_type": "markdown",
   "metadata": {},
   "source": [
    "### 根據範例檔案的結果：\n",
    "\n",
    "1. 請問高雄市有多少地區有溫度資料？\n",
    "2. 請取出每一個地區所記錄的第一個時間點跟溫度\n",
    "3. 請取出第一個地區所記錄的每一個時間點跟溫度"
   ]
  },
  {
   "cell_type": "code",
   "execution_count": 76,
   "metadata": {},
   "outputs": [
    {
     "name": "stdout",
     "output_type": "stream",
     "text": "38\n"
    }
   ],
   "source": [
    "# 1. 請問高雄市有多少地區有溫度資料？\n",
    "\n",
    "# 下載檔案\n",
    "import urllib.request\n",
    "import zipfile\n",
    "\n",
    "res = \"http://opendata.cwb.gov.tw/govdownload?dataid=F-D0047-093&authorizationkey=rdec-key-123-45678-011121314\"\n",
    "urllib.request.urlretrieve(res, \"example.zip\")\n",
    "f = zipfile.ZipFile('example.zip')\n",
    "f.extractall('./data')\n",
    "\n",
    "import os, sys\n",
    "\n",
    "# 打开文件\n",
    "dirs = os.listdir( './data' )\n",
    "\n",
    "# 讀檔案\n",
    "fh = open(\"./data/64_72hr_CH.xml\", \"r\")\n",
    "xml = fh.read()\n",
    "fh.close()\n",
    "\n",
    "\n",
    "\n",
    "# 解析檔案內容\n",
    "import xmltodict\n",
    "doc = dict(xmltodict.parse(xml))\n",
    "\n",
    "\n",
    "# 取出 datasetDescription\n",
    "datasetDescription = len(doc['cwbopendata']['dataset']['locations']['location'])\n",
    "tem = 0\n",
    "for i in doc['cwbopendata']['dataset']['locations']['location']:\n",
    "    for t in i['weatherElement']:\n",
    "        if t['description']=='溫度':\n",
    "            tem +=1\n",
    "print(tem)\n",
    "\n"
   ]
  },
  {
   "cell_type": "code",
   "execution_count": 83,
   "metadata": {},
   "outputs": [
    {
     "name": "stdout",
     "output_type": "stream",
     "text": "38 個地區有資料，分別是:\n\n1 鹽埕區\n2 鼓山區\n3 左營區\n4 楠梓區\n5 三民區\n6 新興區\n7 前金區\n8 苓雅區\n9 前鎮區\n10 旗津區\n11 小港區\n12 鳳山區\n13 林園區\n14 大寮區\n15 大樹區\n16 大社區\n17 仁武區\n18 鳥松區\n19 岡山區\n20 橋頭區\n21 燕巢區\n22 田寮區\n23 阿蓮區\n24 路竹區\n25 湖內區\n26 茄萣區\n27 永安區\n28 彌陀區\n29 梓官區\n30 旗山區\n31 美濃區\n32 六龜區\n33 甲仙區\n34 杉林區\n35 內門區\n36 茂林區\n37 桃源區\n38 那瑪夏區\n"
    }
   ],
   "source": [
    "print(len(doc['cwbopendata']['dataset']['locations']['location']), '個地區有資料，分別是:\\n')\n",
    "for i, place in enumerate(doc['cwbopendata']['dataset']['locations']['location']):\n",
    "    print(i+1 , place['locationName'])"
   ]
  },
  {
   "cell_type": "code",
   "execution_count": 84,
   "metadata": {},
   "outputs": [
    {
     "name": "stdout",
     "output_type": "stream",
     "text": "鹽埕區 時間： 2019-11-25T18:00:00+08:00 溫度：攝氏 26 度\n鼓山區 時間： 2019-11-25T18:00:00+08:00 溫度：攝氏 26 度\n左營區 時間： 2019-11-25T18:00:00+08:00 溫度：攝氏 25 度\n楠梓區 時間： 2019-11-25T18:00:00+08:00 溫度：攝氏 25 度\n三民區 時間： 2019-11-25T18:00:00+08:00 溫度：攝氏 25 度\n新興區 時間： 2019-11-25T18:00:00+08:00 溫度：攝氏 26 度\n前金區 時間： 2019-11-25T18:00:00+08:00 溫度：攝氏 26 度\n苓雅區 時間： 2019-11-25T18:00:00+08:00 溫度：攝氏 26 度\n前鎮區 時間： 2019-11-25T18:00:00+08:00 溫度：攝氏 26 度\n旗津區 時間： 2019-11-25T18:00:00+08:00 溫度：攝氏 25 度\n小港區 時間： 2019-11-25T18:00:00+08:00 溫度：攝氏 26 度\n鳳山區 時間： 2019-11-25T18:00:00+08:00 溫度：攝氏 26 度\n林園區 時間： 2019-11-25T18:00:00+08:00 溫度：攝氏 26 度\n大寮區 時間： 2019-11-25T18:00:00+08:00 溫度：攝氏 26 度\n大樹區 時間： 2019-11-25T18:00:00+08:00 溫度：攝氏 26 度\n大社區 時間： 2019-11-25T18:00:00+08:00 溫度：攝氏 26 度\n仁武區 時間： 2019-11-25T18:00:00+08:00 溫度：攝氏 26 度\n鳥松區 時間： 2019-11-25T18:00:00+08:00 溫度：攝氏 26 度\n岡山區 時間： 2019-11-25T18:00:00+08:00 溫度：攝氏 25 度\n橋頭區 時間： 2019-11-25T18:00:00+08:00 溫度：攝氏 26 度\n燕巢區 時間： 2019-11-25T18:00:00+08:00 溫度：攝氏 25 度\n田寮區 時間： 2019-11-25T18:00:00+08:00 溫度：攝氏 24 度\n阿蓮區 時間： 2019-11-25T18:00:00+08:00 溫度：攝氏 24 度\n路竹區 時間： 2019-11-25T18:00:00+08:00 溫度：攝氏 25 度\n湖內區 時間： 2019-11-25T18:00:00+08:00 溫度：攝氏 24 度\n茄萣區 時間： 2019-11-25T18:00:00+08:00 溫度：攝氏 24 度\n永安區 時間： 2019-11-25T18:00:00+08:00 溫度：攝氏 24 度\n彌陀區 時間： 2019-11-25T18:00:00+08:00 溫度：攝氏 24 度\n梓官區 時間： 2019-11-25T18:00:00+08:00 溫度：攝氏 25 度\n旗山區 時間： 2019-11-25T18:00:00+08:00 溫度：攝氏 24 度\n美濃區 時間： 2019-11-25T18:00:00+08:00 溫度：攝氏 25 度\n六龜區 時間： 2019-11-25T18:00:00+08:00 溫度：攝氏 22 度\n甲仙區 時間： 2019-11-25T18:00:00+08:00 溫度：攝氏 21 度\n杉林區 時間： 2019-11-25T18:00:00+08:00 溫度：攝氏 25 度\n內門區 時間： 2019-11-25T18:00:00+08:00 溫度：攝氏 23 度\n茂林區 時間： 2019-11-25T18:00:00+08:00 溫度：攝氏 23 度\n桃源區 時間： 2019-11-25T18:00:00+08:00 溫度：攝氏 20 度\n那瑪夏區 時間： 2019-11-25T18:00:00+08:00 溫度：攝氏 18 度\n"
    }
   ],
   "source": [
    "# 2. 請取出每一個地區所記錄的第一個時間點跟溫度\n",
    "for f in doc['cwbopendata']['dataset']['locations']['location']:\n",
    "    print(f['locationName'], '時間：', f['weatherElement'][0]['time'][0]['dataTime'], '溫度：攝氏',f['weatherElement'][0]['time'][0]['elementValue']['value'],'度')"
   ]
  },
  {
   "cell_type": "code",
   "execution_count": 99,
   "metadata": {},
   "outputs": [
    {
     "name": "stdout",
     "output_type": "stream",
     "text": "鹽埕區 的溫度數據為：\n\n時間: 2019-11-25T18:00:00+08:00 溫度 26 °C\n時間: 2019-11-25T21:00:00+08:00 溫度 24 °C\n時間: 2019-11-26T00:00:00+08:00 溫度 23 °C\n時間: 2019-11-26T03:00:00+08:00 溫度 22 °C\n時間: 2019-11-26T06:00:00+08:00 溫度 22 °C\n時間: 2019-11-26T09:00:00+08:00 溫度 23 °C\n時間: 2019-11-26T12:00:00+08:00 溫度 26 °C\n時間: 2019-11-26T15:00:00+08:00 溫度 26 °C\n時間: 2019-11-26T18:00:00+08:00 溫度 25 °C\n時間: 2019-11-26T21:00:00+08:00 溫度 23 °C\n時間: 2019-11-27T00:00:00+08:00 溫度 22 °C\n時間: 2019-11-27T03:00:00+08:00 溫度 22 °C\n時間: 2019-11-27T06:00:00+08:00 溫度 21 °C\n時間: 2019-11-27T09:00:00+08:00 溫度 23 °C\n時間: 2019-11-27T12:00:00+08:00 溫度 27 °C\n時間: 2019-11-27T15:00:00+08:00 溫度 27 °C\n時間: 2019-11-27T18:00:00+08:00 溫度 25 °C\n時間: 2019-11-27T21:00:00+08:00 溫度 23 °C\n時間: 2019-11-28T00:00:00+08:00 溫度 22 °C\n時間: 2019-11-28T03:00:00+08:00 溫度 21 °C\n時間: 2019-11-28T06:00:00+08:00 溫度 20 °C\n時間: 2019-11-28T09:00:00+08:00 溫度 22 °C\n時間: 2019-11-28T12:00:00+08:00 溫度 26 °C\n時間: 2019-11-28T15:00:00+08:00 溫度 26 °C\n"
    }
   ],
   "source": [
    "# 3. 請取出第一個地區所記錄的每一個時間點跟溫度\n",
    "\n",
    "print(doc['cwbopendata']['dataset']['locations']['location'][0]['locationName'],'的溫度數據為：\\n')\n",
    "for t in doc['cwbopendata']['dataset']['locations']['location'][0]['weatherElement'][0]['time']:\n",
    "    print('時間:', t['dataTime'], '溫度', t['elementValue']['value'], '°C')"
   ]
  },
  {
   "cell_type": "code",
   "execution_count": null,
   "metadata": {},
   "outputs": [],
   "source": []
  }
 ],
 "metadata": {
  "kernelspec": {
   "display_name": "Python 3",
   "language": "python",
   "name": "python3"
  },
  "language_info": {
   "codemirror_mode": {
    "name": "ipython",
    "version": 3
   },
   "file_extension": ".py",
   "mimetype": "text/x-python",
   "name": "python",
   "nbconvert_exporter": "python",
   "pygments_lexer": "ipython3",
   "version": "3.7.3"
  }
 },
 "nbformat": 4,
 "nbformat_minor": 2
}
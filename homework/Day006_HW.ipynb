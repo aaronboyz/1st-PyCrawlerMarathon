{
 "cells": [
  {
   "cell_type": "markdown",
   "metadata": {},
   "source": [
    "# API 資料串接 - 以 知乎 API 實作範例\n",
    "\n",
    "\n",
    "\n",
    "* 了解知乎 API 使用方式與回傳內容\n",
    "* 撰寫程式存取 API 且添加標頭\n",
    "\n",
    "\n"
   ]
  },
  {
   "cell_type": "markdown",
   "metadata": {},
   "source": [
    "## 作業目標\n",
    "\n",
    "* 根據範例提供的 API ，完成以下問題：\n",
    "\n",
    "    1. 取出知乎問題發問時間\n",
    "    2. 取出第一筆與最後一筆回答的時間\n"
   ]
  },
  {
   "cell_type": "markdown",
   "metadata": {},
   "source": [
    "### 1. 取出知乎問題發問時間"
   ]
  },
  {
   "cell_type": "code",
   "execution_count": 21,
   "metadata": {},
   "outputs": [
    {
     "name": "stdout",
     "output_type": "stream",
     "text": "問題發問時間: 2017-02-06 22:10:29\n"
    }
   ],
   "source": [
    "# 1. 取出知乎問題發問時間\n",
    "\n",
    "import requests\n",
    "headers = {'user-agent': 'my-app/0.0.1'}\n",
    "r = requests.get('https://www.zhihu.com/api/v4/questions/55493026/answers',headers=headers)\n",
    "response = r.text\n",
    "\n",
    "import json\n",
    "data = json.loads(response)\n",
    "\n",
    "#datetime 模組中有許多類別供以操作日期以及時間，從簡單從複雜都有。模組支援日期與時間的運算，而實作的重點是有效率的成員擷取以達到輸出格式化以及操作。模組也提供支援時區換算的類別。\n",
    "from datetime import datetime\n",
    "\n",
    "for d in data['data']:\n",
    "    dt_object = datetime.fromtimestamp(d['question']['created'])\n",
    "    # print('timestamp: %d'%(d['question']['created']))\n",
    "    print('問題發問時間: '+str(dt_object))\n",
    "    \n",
    "    break"
   ]
  },
  {
   "cell_type": "markdown",
   "metadata": {},
   "source": [
    "### 2. 取出第一筆與最後一筆回答的時間"
   ]
  },
  {
   "cell_type": "code",
   "execution_count": 22,
   "metadata": {},
   "outputs": [
    {
     "name": "stdout",
     "output_type": "stream",
     "text": "oldest_timestamp: 1493693113\noldest_time: 2017-05-02 10:45:13\n\nnewest_timestamp: 1572318426\nnewest_time: 2019-10-29 11:07:06\n"
    }
   ],
   "source": [
    "# 2. 取出第一筆與最後一筆回答的時間\n",
    "\n",
    "oldest = None #第一筆資料為空值\n",
    "newest = None #最後一筆資料為空值\n",
    "for d in data['data']:\n",
    "    \n",
    "    if oldest is None: \n",
    "        oldest = d['created_time']\n",
    "    elif oldest > d['created_time']: \n",
    "        oldest = d['created_time']\n",
    "    \n",
    "    if newest is None:\n",
    "        newest = d['created_time']\n",
    "    elif newest < d['created_time']:\n",
    "        newest = d['created_time']\n",
    "    \n",
    "dt_oldest = datetime.fromtimestamp(oldest)\n",
    "dt_newest = datetime.fromtimestamp(newest)\n",
    "print('oldest_timestamp: %d'%(oldest)) # %d 月內中的一天（0-31）\n",
    "print('oldest_time: '+str(dt_oldest))\n",
    "print()\n",
    "print('newest_timestamp: %d'%(newest))\n",
    "print('newest_time: '+str(dt_newest))"
   ]
  },
  {
   "cell_type": "code",
   "execution_count": null,
   "metadata": {},
   "outputs": [],
   "source": []
  },
  {
   "cell_type": "code",
   "execution_count": null,
   "metadata": {},
   "outputs": [],
   "source": []
  },
  {
   "cell_type": "code",
   "execution_count": null,
   "metadata": {},
   "outputs": [],
   "source": []
  }
 ],
 "metadata": {
  "kernelspec": {
   "display_name": "Python 3",
   "language": "python",
   "name": "python3"
  },
  "language_info": {
   "codemirror_mode": {
    "name": "ipython",
    "version": 3
   },
   "file_extension": ".py",
   "mimetype": "text/x-python",
   "name": "python",
   "nbconvert_exporter": "python",
   "pygments_lexer": "ipython3",
   "version": "3.7.3"
  }
 },
 "nbformat": 4,
 "nbformat_minor": 2
}